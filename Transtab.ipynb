{
  "cells": [
    {
      "cell_type": "markdown",
      "source": [
        "# Init"
      ],
      "metadata": {
        "id": "sHqNg2dxcOt-"
      }
    },
    {
      "cell_type": "code",
      "execution_count": null,
      "metadata": {
        "id": "ufiGTQrB3Imb"
      },
      "outputs": [],
      "source": [
        "from google.colab import drive \n",
        "drive.mount('/content/drive')\n",
        "%cd drive/MyDrive/transtab/\n",
        "!pip install loguru\n",
        "!pip install openml\n",
        "!pip install transformers\n",
        "!pip install torch==1.13.1+cu117 torchvision==0.14.1+cu117 torchaudio==0.13.1 --extra-index-url https://download.pytorch.org/whl/cu117\n",
        "import torch\n",
        "print(torch.__version__)\n",
        "!python -V\n",
        "!nvcc --version"
      ]
    },
    {
      "cell_type": "markdown",
      "metadata": {
        "id": "LqAfBTN05fhq"
      },
      "source": [
        "#Supervised learning"
      ]
    },
    {
      "cell_type": "code",
      "execution_count": null,
      "metadata": {
        "id": "NlxJP7H45hYl"
      },
      "outputs": [],
      "source": [
        "!python supervised_learning.py"
      ]
    },
    {
      "cell_type": "markdown",
      "metadata": {
        "id": "Cuoiq9Xz5NdG"
      },
      "source": [
        "# Incremental learning"
      ]
    },
    {
      "cell_type": "code",
      "execution_count": null,
      "metadata": {
        "colab": {
          "background_save": true
        },
        "id": "insWjygu4pnq"
      },
      "outputs": [],
      "source": [
        "!python incremental_learning.py"
      ]
    },
    {
      "cell_type": "markdown",
      "metadata": {
        "id": "grP3LJ_95V2R"
      },
      "source": [
        "# Transfer learning"
      ]
    },
    {
      "cell_type": "code",
      "execution_count": null,
      "metadata": {
        "id": "nOoerGGP5ZMq"
      },
      "outputs": [],
      "source": [
        "!python transfer_learning.py"
      ]
    },
    {
      "cell_type": "markdown",
      "metadata": {
        "id": "s1QtrcDI5kkt"
      },
      "source": [
        "# Zero-shot learning"
      ]
    },
    {
      "cell_type": "code",
      "execution_count": null,
      "metadata": {
        "id": "m_tly7Qs5nxa"
      },
      "outputs": [],
      "source": [
        "!python zeroshot_learning.py"
      ]
    },
    {
      "cell_type": "markdown",
      "metadata": {
        "id": "a90rOLfR2-nZ"
      },
      "source": [
        "#Contrastive"
      ]
    },
    {
      "cell_type": "code",
      "execution_count": null,
      "metadata": {
        "id": "vcjhw8Sl2-Qt"
      },
      "outputs": [],
      "source": [
        "!python supervised_selfsupervised_pretrain_finetuning.py"
      ]
    }
  ],
  "metadata": {
    "accelerator": "GPU",
    "colab": {
      "provenance": []
    },
    "gpuClass": "standard",
    "kernelspec": {
      "display_name": "Python 3",
      "name": "python3"
    },
    "language_info": {
      "name": "python"
    }
  },
  "nbformat": 4,
  "nbformat_minor": 0
}